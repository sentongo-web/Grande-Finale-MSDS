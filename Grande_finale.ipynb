{
 "cells": [
  {
   "cell_type": "code",
   "execution_count": 1,
   "id": "a0af748a",
   "metadata": {},
   "outputs": [],
   "source": [
    "\n",
    "# importing libraries to be used in the project\n",
    "import pandas as pd\n",
    "import numpy as np\n",
    "import matplotlib.pyplot as plt\n",
    "import seaborn as sns\n",
    "from sklearn.preprocessing import StandardScaler, LabelEncoder\n",
    "from sklearn.model_selection import train_test_split\n",
    "from scipy import stats\n",
    "from sklearn.linear_model import LinearRegression\n",
    "from sklearn.ensemble import RandomForestRegressor\n",
    "from xgboost import XGBRegressor\n",
    "from sklearn.metrics import mean_squared_error, r2_score\n",
    "import matplotlib.pyplot as plt\n",
    "import tensorflow as tf\n",
    "from tensorflow import keras\n",
    "from tensorflow.keras import layers\n",
    "import streamlit as st\n",
    "import pandas as pd\n",
    "import numpy as np\n",
    "from sklearn.preprocessing import StandardScaler, LabelEncoder\n",
    "import joblib\n",
    "import warnings\n",
    "warnings.filterwarnings(\"ignore\")\n",
    "from sklearn.metrics import mean_squared_error, r2_score, mean_absolute_error"
   ]
  },
  {
   "cell_type": "code",
   "execution_count": 2,
   "id": "2807c1c2",
   "metadata": {},
   "outputs": [],
   "source": [
    "data = pd.read_csv('Uganda_imports_train.csv')"
   ]
  },
  {
   "cell_type": "code",
   "execution_count": 3,
   "id": "613d95df",
   "metadata": {},
   "outputs": [
    {
     "data": {
      "application/vnd.microsoft.datawrangler.viewer.v0+json": {
       "columns": [
        {
         "name": "index",
         "rawType": "int64",
         "type": "integer"
        },
        {
         "name": "HS_Code",
         "rawType": "int64",
         "type": "integer"
        },
        {
         "name": "Item_Description",
         "rawType": "object",
         "type": "string"
        },
        {
         "name": "Country_of_Origin",
         "rawType": "object",
         "type": "string"
        },
        {
         "name": "Port_of_Shipment",
         "rawType": "object",
         "type": "string"
        },
        {
         "name": "Quantity",
         "rawType": "float64",
         "type": "float"
        },
        {
         "name": "Quantity_Unit",
         "rawType": "object",
         "type": "string"
        },
        {
         "name": "Net_Mass_kg",
         "rawType": "float64",
         "type": "float"
        },
        {
         "name": "Gross_Mass_kg",
         "rawType": "float64",
         "type": "float"
        },
        {
         "name": "FOB_Value_USD",
         "rawType": "float64",
         "type": "float"
        },
        {
         "name": "Freight_USD",
         "rawType": "float64",
         "type": "float"
        },
        {
         "name": "Insurance_USD",
         "rawType": "float64",
         "type": "float"
        },
        {
         "name": "CIF_Value_USD",
         "rawType": "float64",
         "type": "float"
        },
        {
         "name": "CIF_Value_UGX",
         "rawType": "float64",
         "type": "float"
        },
        {
         "name": "Unit_Price_UGX",
         "rawType": "float64",
         "type": "float"
        },
        {
         "name": "Tax_Rate",
         "rawType": "float64",
         "type": "float"
        },
        {
         "name": "Currency_Code",
         "rawType": "object",
         "type": "string"
        },
        {
         "name": "Mode_of_Transport",
         "rawType": "object",
         "type": "string"
        },
        {
         "name": "Year",
         "rawType": "int64",
         "type": "integer"
        },
        {
         "name": "Month",
         "rawType": "int64",
         "type": "integer"
        },
        {
         "name": "Invoice_Amount",
         "rawType": "float64",
         "type": "float"
        },
        {
         "name": "Valuation_Method",
         "rawType": "object",
         "type": "string"
        },
        {
         "name": "Value_per_kg",
         "rawType": "float64",
         "type": "float"
        },
        {
         "name": "Value_per_unit",
         "rawType": "float64",
         "type": "float"
        },
        {
         "name": "FOB_per_kg",
         "rawType": "float64",
         "type": "float"
        },
        {
         "name": "Freight_per_kg",
         "rawType": "float64",
         "type": "float"
        },
        {
         "name": "Insurance_per_kg",
         "rawType": "float64",
         "type": "float"
        }
       ],
       "conversionMethod": "pd.DataFrame",
       "ref": "6d652601-d0a3-4857-8871-11772edc7e45",
       "rows": [
        [
         "0",
         "30049099",
         "Generic pharmaceutical products",
         "China",
         "Port Bell",
         "482.42",
         "kg",
         "2220.29375",
         "2403.42875",
         "2352.84",
         "220.04",
         "47.01",
         "2619.89",
         "9671924.57",
         "20048.76",
         "0.18",
         "USD",
         "Water",
         "2021",
         "11",
         "9671924.57",
         "Deductive Value Method (DVM)",
         "4356.146374775861",
         "20048.76367066042",
         "1.0596976188398497",
         "0.099104003693205",
         "0.0211728740847917"
        ],
        [
         "1",
         "30049099",
         "Generic pharmaceutical products",
         "China",
         "Entebbe Airport",
         "131.97",
         "liters",
         "348.67",
         "377.42",
         "2084.1",
         "169.47",
         "17.04",
         "2270.61",
         "8412978.38",
         "63749.17",
         "0.18",
         "USD",
         "Air",
         "2022",
         "11",
         "8412978.38",
         "Computed Value Method (CVM)",
         "24128.77041328477",
         "63749.17314541184",
         "5.977285111997016",
         "0.4860469785183697",
         "0.0488714257033871"
        ],
        [
         "2",
         "15079090",
         "Vegetable fats and oils",
         "Germany",
         "Entebbe Airport",
         "113.44",
         "pairs",
         "449.93",
         "487.04",
         "2759.84",
         "151.3",
         "53.46",
         "2964.6",
         "10672562.76",
         "94081.12",
         "0.15",
         "USD",
         "Air",
         "2022",
         "3",
         "10672562.76",
         "Transaction Value of Similar Goods (TVSG)",
         "23720.49598826484",
         "94081.12447108603",
         "6.133931944969218",
         "0.3362745315938035",
         "0.1188184828751139"
        ],
        [
         "3",
         "10063010",
         "Milled rice",
         "India",
         "Busia",
         "230.52",
         "units",
         "808.09",
         "874.73",
         "2917.65",
         "214.86",
         "40.36",
         "3172.87",
         "11692581.49",
         "50722.63",
         "0.1",
         "USD",
         "Land",
         "2023",
         "4",
         "11692581.49",
         "Computed Value Method (CVM)",
         "14469.405004393077",
         "50722.63356758632",
         "3.610550804984593",
         "0.2658862255441844",
         "0.0499449318763999"
        ],
        [
         "4",
         "84089010",
         "Industrial machinery parts",
         "Saudi Arabia",
         "Entebbe Airport",
         "341.7",
         "boxes",
         "896.63",
         "970.58",
         "6971.39",
         "366.85",
         "132.64",
         "7470.88",
         "26519078.57",
         "77609.24",
         "0.25",
         "USD",
         "Air",
         "2021",
         "6",
         "26519078.57",
         "Computed Value Method (CVM)",
         "29576.390004795736",
         "77609.24369329822",
         "7.775102327604475",
         "0.4091431248117953",
         "0.1479316998092858"
        ]
       ],
       "shape": {
        "columns": 26,
        "rows": 5
       }
      },
      "text/html": [
       "<div>\n",
       "<style scoped>\n",
       "    .dataframe tbody tr th:only-of-type {\n",
       "        vertical-align: middle;\n",
       "    }\n",
       "\n",
       "    .dataframe tbody tr th {\n",
       "        vertical-align: top;\n",
       "    }\n",
       "\n",
       "    .dataframe thead th {\n",
       "        text-align: right;\n",
       "    }\n",
       "</style>\n",
       "<table border=\"1\" class=\"dataframe\">\n",
       "  <thead>\n",
       "    <tr style=\"text-align: right;\">\n",
       "      <th></th>\n",
       "      <th>HS_Code</th>\n",
       "      <th>Item_Description</th>\n",
       "      <th>Country_of_Origin</th>\n",
       "      <th>Port_of_Shipment</th>\n",
       "      <th>Quantity</th>\n",
       "      <th>Quantity_Unit</th>\n",
       "      <th>Net_Mass_kg</th>\n",
       "      <th>Gross_Mass_kg</th>\n",
       "      <th>FOB_Value_USD</th>\n",
       "      <th>Freight_USD</th>\n",
       "      <th>...</th>\n",
       "      <th>Mode_of_Transport</th>\n",
       "      <th>Year</th>\n",
       "      <th>Month</th>\n",
       "      <th>Invoice_Amount</th>\n",
       "      <th>Valuation_Method</th>\n",
       "      <th>Value_per_kg</th>\n",
       "      <th>Value_per_unit</th>\n",
       "      <th>FOB_per_kg</th>\n",
       "      <th>Freight_per_kg</th>\n",
       "      <th>Insurance_per_kg</th>\n",
       "    </tr>\n",
       "  </thead>\n",
       "  <tbody>\n",
       "    <tr>\n",
       "      <th>0</th>\n",
       "      <td>30049099</td>\n",
       "      <td>Generic pharmaceutical products</td>\n",
       "      <td>China</td>\n",
       "      <td>Port Bell</td>\n",
       "      <td>482.42</td>\n",
       "      <td>kg</td>\n",
       "      <td>2220.29375</td>\n",
       "      <td>2403.42875</td>\n",
       "      <td>2352.84</td>\n",
       "      <td>220.04</td>\n",
       "      <td>...</td>\n",
       "      <td>Water</td>\n",
       "      <td>2021</td>\n",
       "      <td>11</td>\n",
       "      <td>9671924.57</td>\n",
       "      <td>Deductive Value Method (DVM)</td>\n",
       "      <td>4356.146375</td>\n",
       "      <td>20048.763671</td>\n",
       "      <td>1.059698</td>\n",
       "      <td>0.099104</td>\n",
       "      <td>0.021173</td>\n",
       "    </tr>\n",
       "    <tr>\n",
       "      <th>1</th>\n",
       "      <td>30049099</td>\n",
       "      <td>Generic pharmaceutical products</td>\n",
       "      <td>China</td>\n",
       "      <td>Entebbe Airport</td>\n",
       "      <td>131.97</td>\n",
       "      <td>liters</td>\n",
       "      <td>348.67000</td>\n",
       "      <td>377.42000</td>\n",
       "      <td>2084.10</td>\n",
       "      <td>169.47</td>\n",
       "      <td>...</td>\n",
       "      <td>Air</td>\n",
       "      <td>2022</td>\n",
       "      <td>11</td>\n",
       "      <td>8412978.38</td>\n",
       "      <td>Computed Value Method (CVM)</td>\n",
       "      <td>24128.770413</td>\n",
       "      <td>63749.173145</td>\n",
       "      <td>5.977285</td>\n",
       "      <td>0.486047</td>\n",
       "      <td>0.048871</td>\n",
       "    </tr>\n",
       "    <tr>\n",
       "      <th>2</th>\n",
       "      <td>15079090</td>\n",
       "      <td>Vegetable fats and oils</td>\n",
       "      <td>Germany</td>\n",
       "      <td>Entebbe Airport</td>\n",
       "      <td>113.44</td>\n",
       "      <td>pairs</td>\n",
       "      <td>449.93000</td>\n",
       "      <td>487.04000</td>\n",
       "      <td>2759.84</td>\n",
       "      <td>151.30</td>\n",
       "      <td>...</td>\n",
       "      <td>Air</td>\n",
       "      <td>2022</td>\n",
       "      <td>3</td>\n",
       "      <td>10672562.76</td>\n",
       "      <td>Transaction Value of Similar Goods (TVSG)</td>\n",
       "      <td>23720.495988</td>\n",
       "      <td>94081.124471</td>\n",
       "      <td>6.133932</td>\n",
       "      <td>0.336275</td>\n",
       "      <td>0.118818</td>\n",
       "    </tr>\n",
       "    <tr>\n",
       "      <th>3</th>\n",
       "      <td>10063010</td>\n",
       "      <td>Milled rice</td>\n",
       "      <td>India</td>\n",
       "      <td>Busia</td>\n",
       "      <td>230.52</td>\n",
       "      <td>units</td>\n",
       "      <td>808.09000</td>\n",
       "      <td>874.73000</td>\n",
       "      <td>2917.65</td>\n",
       "      <td>214.86</td>\n",
       "      <td>...</td>\n",
       "      <td>Land</td>\n",
       "      <td>2023</td>\n",
       "      <td>4</td>\n",
       "      <td>11692581.49</td>\n",
       "      <td>Computed Value Method (CVM)</td>\n",
       "      <td>14469.405004</td>\n",
       "      <td>50722.633568</td>\n",
       "      <td>3.610551</td>\n",
       "      <td>0.265886</td>\n",
       "      <td>0.049945</td>\n",
       "    </tr>\n",
       "    <tr>\n",
       "      <th>4</th>\n",
       "      <td>84089010</td>\n",
       "      <td>Industrial machinery parts</td>\n",
       "      <td>Saudi Arabia</td>\n",
       "      <td>Entebbe Airport</td>\n",
       "      <td>341.70</td>\n",
       "      <td>boxes</td>\n",
       "      <td>896.63000</td>\n",
       "      <td>970.58000</td>\n",
       "      <td>6971.39</td>\n",
       "      <td>366.85</td>\n",
       "      <td>...</td>\n",
       "      <td>Air</td>\n",
       "      <td>2021</td>\n",
       "      <td>6</td>\n",
       "      <td>26519078.57</td>\n",
       "      <td>Computed Value Method (CVM)</td>\n",
       "      <td>29576.390005</td>\n",
       "      <td>77609.243693</td>\n",
       "      <td>7.775102</td>\n",
       "      <td>0.409143</td>\n",
       "      <td>0.147932</td>\n",
       "    </tr>\n",
       "  </tbody>\n",
       "</table>\n",
       "<p>5 rows × 26 columns</p>\n",
       "</div>"
      ],
      "text/plain": [
       "    HS_Code                 Item_Description Country_of_Origin  \\\n",
       "0  30049099  Generic pharmaceutical products             China   \n",
       "1  30049099  Generic pharmaceutical products             China   \n",
       "2  15079090          Vegetable fats and oils           Germany   \n",
       "3  10063010                      Milled rice             India   \n",
       "4  84089010       Industrial machinery parts      Saudi Arabia   \n",
       "\n",
       "  Port_of_Shipment  Quantity Quantity_Unit  Net_Mass_kg  Gross_Mass_kg  \\\n",
       "0        Port Bell    482.42            kg   2220.29375     2403.42875   \n",
       "1  Entebbe Airport    131.97        liters    348.67000      377.42000   \n",
       "2  Entebbe Airport    113.44         pairs    449.93000      487.04000   \n",
       "3            Busia    230.52         units    808.09000      874.73000   \n",
       "4  Entebbe Airport    341.70         boxes    896.63000      970.58000   \n",
       "\n",
       "   FOB_Value_USD  Freight_USD  ...  Mode_of_Transport  Year  Month  \\\n",
       "0        2352.84       220.04  ...              Water  2021     11   \n",
       "1        2084.10       169.47  ...                Air  2022     11   \n",
       "2        2759.84       151.30  ...                Air  2022      3   \n",
       "3        2917.65       214.86  ...               Land  2023      4   \n",
       "4        6971.39       366.85  ...                Air  2021      6   \n",
       "\n",
       "   Invoice_Amount                           Valuation_Method  Value_per_kg  \\\n",
       "0      9671924.57               Deductive Value Method (DVM)   4356.146375   \n",
       "1      8412978.38                Computed Value Method (CVM)  24128.770413   \n",
       "2     10672562.76  Transaction Value of Similar Goods (TVSG)  23720.495988   \n",
       "3     11692581.49                Computed Value Method (CVM)  14469.405004   \n",
       "4     26519078.57                Computed Value Method (CVM)  29576.390005   \n",
       "\n",
       "  Value_per_unit  FOB_per_kg  Freight_per_kg  Insurance_per_kg  \n",
       "0   20048.763671    1.059698        0.099104          0.021173  \n",
       "1   63749.173145    5.977285        0.486047          0.048871  \n",
       "2   94081.124471    6.133932        0.336275          0.118818  \n",
       "3   50722.633568    3.610551        0.265886          0.049945  \n",
       "4   77609.243693    7.775102        0.409143          0.147932  \n",
       "\n",
       "[5 rows x 26 columns]"
      ]
     },
     "execution_count": 3,
     "metadata": {},
     "output_type": "execute_result"
    }
   ],
   "source": [
    "data.head(5)"
   ]
  },
  {
   "cell_type": "code",
   "execution_count": 4,
   "id": "f372a895",
   "metadata": {},
   "outputs": [
    {
     "data": {
      "text/plain": [
       "Index(['HS_Code', 'Item_Description', 'Country_of_Origin', 'Port_of_Shipment',\n",
       "       'Quantity', 'Quantity_Unit', 'Net_Mass_kg', 'Gross_Mass_kg',\n",
       "       'FOB_Value_USD', 'Freight_USD', 'Insurance_USD', 'CIF_Value_USD',\n",
       "       'CIF_Value_UGX', 'Unit_Price_UGX', 'Tax_Rate', 'Currency_Code',\n",
       "       'Mode_of_Transport', 'Year', 'Month', 'Invoice_Amount',\n",
       "       'Valuation_Method', 'Value_per_kg', 'Value_per_unit', 'FOB_per_kg',\n",
       "       'Freight_per_kg', 'Insurance_per_kg'],\n",
       "      dtype='object')"
      ]
     },
     "execution_count": 4,
     "metadata": {},
     "output_type": "execute_result"
    }
   ],
   "source": [
    "data.columns"
   ]
  },
  {
   "cell_type": "code",
   "execution_count": 6,
   "id": "ecb91025",
   "metadata": {},
   "outputs": [
    {
     "name": "stdout",
     "output_type": "stream",
     "text": [
      "<class 'pandas.core.frame.DataFrame'>\n",
      "RangeIndex: 70734 entries, 0 to 70733\n",
      "Data columns (total 26 columns):\n",
      " #   Column             Non-Null Count  Dtype  \n",
      "---  ------             --------------  -----  \n",
      " 0   HS_Code            70734 non-null  int64  \n",
      " 1   Item_Description   70734 non-null  object \n",
      " 2   Country_of_Origin  70734 non-null  object \n",
      " 3   Port_of_Shipment   70734 non-null  object \n",
      " 4   Quantity           70734 non-null  float64\n",
      " 5   Quantity_Unit      70734 non-null  object \n",
      " 6   Net_Mass_kg        70734 non-null  float64\n",
      " 7   Gross_Mass_kg      70734 non-null  float64\n",
      " 8   FOB_Value_USD      70734 non-null  float64\n",
      " 9   Freight_USD        70734 non-null  float64\n",
      " 10  Insurance_USD      70734 non-null  float64\n",
      " 11  CIF_Value_USD      70734 non-null  float64\n",
      " 12  CIF_Value_UGX      70734 non-null  float64\n",
      " 13  Unit_Price_UGX     70734 non-null  float64\n",
      " 14  Tax_Rate           70734 non-null  float64\n",
      " 15  Currency_Code      70734 non-null  object \n",
      " 16  Mode_of_Transport  70734 non-null  object \n",
      " 17  Year               70734 non-null  int64  \n",
      " 18  Month              70734 non-null  int64  \n",
      " 19  Invoice_Amount     70734 non-null  float64\n",
      " 20  Valuation_Method   70734 non-null  object \n",
      " 21  Value_per_kg       70734 non-null  float64\n",
      " 22  Value_per_unit     70734 non-null  float64\n",
      " 23  FOB_per_kg         70734 non-null  float64\n",
      " 24  Freight_per_kg     70734 non-null  float64\n",
      " 25  Insurance_per_kg   70734 non-null  float64\n",
      "dtypes: float64(16), int64(3), object(7)\n",
      "memory usage: 14.0+ MB\n"
     ]
    }
   ],
   "source": [
    "data.info()"
   ]
  },
  {
   "cell_type": "code",
   "execution_count": 7,
   "id": "323aaa70",
   "metadata": {},
   "outputs": [
    {
     "data": {
      "text/plain": [
       "(70734, 26)"
      ]
     },
     "execution_count": 7,
     "metadata": {},
     "output_type": "execute_result"
    }
   ],
   "source": [
    "data.shape"
   ]
  },
  {
   "cell_type": "code",
   "execution_count": 8,
   "id": "77781028",
   "metadata": {},
   "outputs": [
    {
     "data": {
      "application/vnd.microsoft.datawrangler.viewer.v0+json": {
       "columns": [
        {
         "name": "index",
         "rawType": "object",
         "type": "string"
        },
        {
         "name": "HS_Code",
         "rawType": "float64",
         "type": "float"
        },
        {
         "name": "Quantity",
         "rawType": "float64",
         "type": "float"
        },
        {
         "name": "Net_Mass_kg",
         "rawType": "float64",
         "type": "float"
        },
        {
         "name": "Gross_Mass_kg",
         "rawType": "float64",
         "type": "float"
        },
        {
         "name": "FOB_Value_USD",
         "rawType": "float64",
         "type": "float"
        },
        {
         "name": "Freight_USD",
         "rawType": "float64",
         "type": "float"
        },
        {
         "name": "Insurance_USD",
         "rawType": "float64",
         "type": "float"
        },
        {
         "name": "CIF_Value_USD",
         "rawType": "float64",
         "type": "float"
        },
        {
         "name": "CIF_Value_UGX",
         "rawType": "float64",
         "type": "float"
        },
        {
         "name": "Unit_Price_UGX",
         "rawType": "float64",
         "type": "float"
        },
        {
         "name": "Tax_Rate",
         "rawType": "float64",
         "type": "float"
        },
        {
         "name": "Year",
         "rawType": "float64",
         "type": "float"
        },
        {
         "name": "Month",
         "rawType": "float64",
         "type": "float"
        },
        {
         "name": "Invoice_Amount",
         "rawType": "float64",
         "type": "float"
        },
        {
         "name": "Value_per_kg",
         "rawType": "float64",
         "type": "float"
        },
        {
         "name": "Value_per_unit",
         "rawType": "float64",
         "type": "float"
        },
        {
         "name": "FOB_per_kg",
         "rawType": "float64",
         "type": "float"
        },
        {
         "name": "Freight_per_kg",
         "rawType": "float64",
         "type": "float"
        },
        {
         "name": "Insurance_per_kg",
         "rawType": "float64",
         "type": "float"
        }
       ],
       "conversionMethod": "pd.DataFrame",
       "ref": "13b41a45-5d83-44f4-a401-2759fd116dbd",
       "rows": [
        [
         "count",
         "70734.0",
         "70734.0",
         "70734.0",
         "70734.0",
         "70734.0",
         "70734.0",
         "70734.0",
         "70734.0",
         "70734.0",
         "70734.0",
         "70734.0",
         "70734.0",
         "70734.0",
         "70734.0",
         "70734.0",
         "70734.0",
         "70734.0",
         "70734.0",
         "70734.0"
        ],
        [
         "mean",
         "41919932.310402356",
         "316.51048415542743",
         "725.9079645926995",
         "785.7790346580144",
         "4306.90557652614",
         "330.521005633783",
         "47.08276543105155",
         "4685.703125335765",
         "17330989.040246204",
         "151323.88145262533",
         "0.15531710351457576",
         "2021.998543840303",
         "6.531003477818305",
         "17330989.040246204",
         "104255.19897691096",
         "152333.30033927533",
         "25.923694136054475",
         "1.9800198284561665",
         "0.2854432736967007"
        ],
        [
         "std",
         "29558572.638541155",
         "306.91193485519216",
         "746.192715381074",
         "807.739028921781",
         "1836.7143530778526",
         "237.01718932676684",
         "30.99573153969202",
         "2006.4226919962794",
         "7435593.6185615575",
         "163745.99305018707",
         "0.06543251279033731",
         "1.4135678688327253",
         "3.4492417622076372",
         "7435593.6185615575",
         "200483.7158186265",
         "162888.2959936419",
         "49.83017280784164",
         "4.480517464699599",
         "0.6253993363470833"
        ],
        [
         "min",
         "10063010.0",
         "5.25",
         "2.42",
         "2.61",
         "43.47",
         "1.77",
         "0.25",
         "49.93",
         "185312.63",
         "62.2",
         "0.05",
         "2020.0",
         "1.0",
         "185312.63",
         "248.30727916069665",
         "692.5025121840928",
         "0.0613297226999805",
         "0.0013962116499224",
         "0.000269518089937"
        ],
        [
         "25%",
         "15079090.0",
         "77.9",
         "151.88",
         "164.41",
         "2942.2375",
         "138.3425",
         "22.06",
         "3200.7175",
         "11828281.5125",
         "31865.0525",
         "0.1",
         "2021.0",
         "4.0",
         "11828281.5125",
         "14080.664926656666",
         "32822.0028546109",
         "3.493699226681027",
         "0.21704305709015703",
         "0.033514348921797825"
        ],
        [
         "50%",
         "30049099.0",
         "183.175",
         "391.195",
         "423.455",
         "4203.455",
         "281.02",
         "40.76",
         "4566.110000000001",
         "16853980.075",
         "86718.70000000001",
         "0.18",
         "2022.0",
         "7.0",
         "16853980.075",
         "40541.90052343539",
         "86718.70035273582",
         "10.079780045999803",
         "0.6300546863341616",
         "0.0948730207074805"
        ],
        [
         "75%",
         "84089010.0",
         "467.955",
         "1099.8075",
         "1190.5075",
         "5548.965",
         "474.5975",
         "65.84",
         "6037.455",
         "22333531.29",
         "214177.6",
         "0.2",
         "2023.0",
         "10.0",
         "22333531.29",
         "109842.08456012179",
         "214112.97484924638",
         "27.311533078729237",
         "1.9109238618813982",
         "0.27771288293751883"
        ],
        [
         "max",
         "87032319.0",
         "938.50625",
         "2220.29375",
         "2403.42875",
         "9679.16",
         "1011.13625",
         "135.63",
         "10532.15625",
         "38961476.57375",
         "729221.44",
         "0.25",
         "2024.0",
         "12.0",
         "38961476.57375",
         "3559753.6006191955",
         "729221.4398554465",
         "882.1331269349845",
         "115.5139318885449",
         "14.575690607734805"
        ]
       ],
       "shape": {
        "columns": 19,
        "rows": 8
       }
      },
      "text/html": [
       "<div>\n",
       "<style scoped>\n",
       "    .dataframe tbody tr th:only-of-type {\n",
       "        vertical-align: middle;\n",
       "    }\n",
       "\n",
       "    .dataframe tbody tr th {\n",
       "        vertical-align: top;\n",
       "    }\n",
       "\n",
       "    .dataframe thead th {\n",
       "        text-align: right;\n",
       "    }\n",
       "</style>\n",
       "<table border=\"1\" class=\"dataframe\">\n",
       "  <thead>\n",
       "    <tr style=\"text-align: right;\">\n",
       "      <th></th>\n",
       "      <th>HS_Code</th>\n",
       "      <th>Quantity</th>\n",
       "      <th>Net_Mass_kg</th>\n",
       "      <th>Gross_Mass_kg</th>\n",
       "      <th>FOB_Value_USD</th>\n",
       "      <th>Freight_USD</th>\n",
       "      <th>Insurance_USD</th>\n",
       "      <th>CIF_Value_USD</th>\n",
       "      <th>CIF_Value_UGX</th>\n",
       "      <th>Unit_Price_UGX</th>\n",
       "      <th>Tax_Rate</th>\n",
       "      <th>Year</th>\n",
       "      <th>Month</th>\n",
       "      <th>Invoice_Amount</th>\n",
       "      <th>Value_per_kg</th>\n",
       "      <th>Value_per_unit</th>\n",
       "      <th>FOB_per_kg</th>\n",
       "      <th>Freight_per_kg</th>\n",
       "      <th>Insurance_per_kg</th>\n",
       "    </tr>\n",
       "  </thead>\n",
       "  <tbody>\n",
       "    <tr>\n",
       "      <th>count</th>\n",
       "      <td>7.073400e+04</td>\n",
       "      <td>70734.000000</td>\n",
       "      <td>70734.000000</td>\n",
       "      <td>70734.000000</td>\n",
       "      <td>70734.000000</td>\n",
       "      <td>70734.000000</td>\n",
       "      <td>70734.000000</td>\n",
       "      <td>70734.000000</td>\n",
       "      <td>7.073400e+04</td>\n",
       "      <td>70734.000000</td>\n",
       "      <td>70734.000000</td>\n",
       "      <td>70734.000000</td>\n",
       "      <td>70734.000000</td>\n",
       "      <td>7.073400e+04</td>\n",
       "      <td>7.073400e+04</td>\n",
       "      <td>70734.000000</td>\n",
       "      <td>70734.000000</td>\n",
       "      <td>70734.000000</td>\n",
       "      <td>70734.000000</td>\n",
       "    </tr>\n",
       "    <tr>\n",
       "      <th>mean</th>\n",
       "      <td>4.191993e+07</td>\n",
       "      <td>316.510484</td>\n",
       "      <td>725.907965</td>\n",
       "      <td>785.779035</td>\n",
       "      <td>4306.905577</td>\n",
       "      <td>330.521006</td>\n",
       "      <td>47.082765</td>\n",
       "      <td>4685.703125</td>\n",
       "      <td>1.733099e+07</td>\n",
       "      <td>151323.881453</td>\n",
       "      <td>0.155317</td>\n",
       "      <td>2021.998544</td>\n",
       "      <td>6.531003</td>\n",
       "      <td>1.733099e+07</td>\n",
       "      <td>1.042552e+05</td>\n",
       "      <td>152333.300339</td>\n",
       "      <td>25.923694</td>\n",
       "      <td>1.980020</td>\n",
       "      <td>0.285443</td>\n",
       "    </tr>\n",
       "    <tr>\n",
       "      <th>std</th>\n",
       "      <td>2.955857e+07</td>\n",
       "      <td>306.911935</td>\n",
       "      <td>746.192715</td>\n",
       "      <td>807.739029</td>\n",
       "      <td>1836.714353</td>\n",
       "      <td>237.017189</td>\n",
       "      <td>30.995732</td>\n",
       "      <td>2006.422692</td>\n",
       "      <td>7.435594e+06</td>\n",
       "      <td>163745.993050</td>\n",
       "      <td>0.065433</td>\n",
       "      <td>1.413568</td>\n",
       "      <td>3.449242</td>\n",
       "      <td>7.435594e+06</td>\n",
       "      <td>2.004837e+05</td>\n",
       "      <td>162888.295994</td>\n",
       "      <td>49.830173</td>\n",
       "      <td>4.480517</td>\n",
       "      <td>0.625399</td>\n",
       "    </tr>\n",
       "    <tr>\n",
       "      <th>min</th>\n",
       "      <td>1.006301e+07</td>\n",
       "      <td>5.250000</td>\n",
       "      <td>2.420000</td>\n",
       "      <td>2.610000</td>\n",
       "      <td>43.470000</td>\n",
       "      <td>1.770000</td>\n",
       "      <td>0.250000</td>\n",
       "      <td>49.930000</td>\n",
       "      <td>1.853126e+05</td>\n",
       "      <td>62.200000</td>\n",
       "      <td>0.050000</td>\n",
       "      <td>2020.000000</td>\n",
       "      <td>1.000000</td>\n",
       "      <td>1.853126e+05</td>\n",
       "      <td>2.483073e+02</td>\n",
       "      <td>692.502512</td>\n",
       "      <td>0.061330</td>\n",
       "      <td>0.001396</td>\n",
       "      <td>0.000270</td>\n",
       "    </tr>\n",
       "    <tr>\n",
       "      <th>25%</th>\n",
       "      <td>1.507909e+07</td>\n",
       "      <td>77.900000</td>\n",
       "      <td>151.880000</td>\n",
       "      <td>164.410000</td>\n",
       "      <td>2942.237500</td>\n",
       "      <td>138.342500</td>\n",
       "      <td>22.060000</td>\n",
       "      <td>3200.717500</td>\n",
       "      <td>1.182828e+07</td>\n",
       "      <td>31865.052500</td>\n",
       "      <td>0.100000</td>\n",
       "      <td>2021.000000</td>\n",
       "      <td>4.000000</td>\n",
       "      <td>1.182828e+07</td>\n",
       "      <td>1.408066e+04</td>\n",
       "      <td>32822.002855</td>\n",
       "      <td>3.493699</td>\n",
       "      <td>0.217043</td>\n",
       "      <td>0.033514</td>\n",
       "    </tr>\n",
       "    <tr>\n",
       "      <th>50%</th>\n",
       "      <td>3.004910e+07</td>\n",
       "      <td>183.175000</td>\n",
       "      <td>391.195000</td>\n",
       "      <td>423.455000</td>\n",
       "      <td>4203.455000</td>\n",
       "      <td>281.020000</td>\n",
       "      <td>40.760000</td>\n",
       "      <td>4566.110000</td>\n",
       "      <td>1.685398e+07</td>\n",
       "      <td>86718.700000</td>\n",
       "      <td>0.180000</td>\n",
       "      <td>2022.000000</td>\n",
       "      <td>7.000000</td>\n",
       "      <td>1.685398e+07</td>\n",
       "      <td>4.054190e+04</td>\n",
       "      <td>86718.700353</td>\n",
       "      <td>10.079780</td>\n",
       "      <td>0.630055</td>\n",
       "      <td>0.094873</td>\n",
       "    </tr>\n",
       "    <tr>\n",
       "      <th>75%</th>\n",
       "      <td>8.408901e+07</td>\n",
       "      <td>467.955000</td>\n",
       "      <td>1099.807500</td>\n",
       "      <td>1190.507500</td>\n",
       "      <td>5548.965000</td>\n",
       "      <td>474.597500</td>\n",
       "      <td>65.840000</td>\n",
       "      <td>6037.455000</td>\n",
       "      <td>2.233353e+07</td>\n",
       "      <td>214177.600000</td>\n",
       "      <td>0.200000</td>\n",
       "      <td>2023.000000</td>\n",
       "      <td>10.000000</td>\n",
       "      <td>2.233353e+07</td>\n",
       "      <td>1.098421e+05</td>\n",
       "      <td>214112.974849</td>\n",
       "      <td>27.311533</td>\n",
       "      <td>1.910924</td>\n",
       "      <td>0.277713</td>\n",
       "    </tr>\n",
       "    <tr>\n",
       "      <th>max</th>\n",
       "      <td>8.703232e+07</td>\n",
       "      <td>938.506250</td>\n",
       "      <td>2220.293750</td>\n",
       "      <td>2403.428750</td>\n",
       "      <td>9679.160000</td>\n",
       "      <td>1011.136250</td>\n",
       "      <td>135.630000</td>\n",
       "      <td>10532.156250</td>\n",
       "      <td>3.896148e+07</td>\n",
       "      <td>729221.440000</td>\n",
       "      <td>0.250000</td>\n",
       "      <td>2024.000000</td>\n",
       "      <td>12.000000</td>\n",
       "      <td>3.896148e+07</td>\n",
       "      <td>3.559754e+06</td>\n",
       "      <td>729221.439855</td>\n",
       "      <td>882.133127</td>\n",
       "      <td>115.513932</td>\n",
       "      <td>14.575691</td>\n",
       "    </tr>\n",
       "  </tbody>\n",
       "</table>\n",
       "</div>"
      ],
      "text/plain": [
       "            HS_Code      Quantity   Net_Mass_kg  Gross_Mass_kg  FOB_Value_USD  \\\n",
       "count  7.073400e+04  70734.000000  70734.000000   70734.000000   70734.000000   \n",
       "mean   4.191993e+07    316.510484    725.907965     785.779035    4306.905577   \n",
       "std    2.955857e+07    306.911935    746.192715     807.739029    1836.714353   \n",
       "min    1.006301e+07      5.250000      2.420000       2.610000      43.470000   \n",
       "25%    1.507909e+07     77.900000    151.880000     164.410000    2942.237500   \n",
       "50%    3.004910e+07    183.175000    391.195000     423.455000    4203.455000   \n",
       "75%    8.408901e+07    467.955000   1099.807500    1190.507500    5548.965000   \n",
       "max    8.703232e+07    938.506250   2220.293750    2403.428750    9679.160000   \n",
       "\n",
       "        Freight_USD  Insurance_USD  CIF_Value_USD  CIF_Value_UGX  \\\n",
       "count  70734.000000   70734.000000   70734.000000   7.073400e+04   \n",
       "mean     330.521006      47.082765    4685.703125   1.733099e+07   \n",
       "std      237.017189      30.995732    2006.422692   7.435594e+06   \n",
       "min        1.770000       0.250000      49.930000   1.853126e+05   \n",
       "25%      138.342500      22.060000    3200.717500   1.182828e+07   \n",
       "50%      281.020000      40.760000    4566.110000   1.685398e+07   \n",
       "75%      474.597500      65.840000    6037.455000   2.233353e+07   \n",
       "max     1011.136250     135.630000   10532.156250   3.896148e+07   \n",
       "\n",
       "       Unit_Price_UGX      Tax_Rate          Year         Month  \\\n",
       "count    70734.000000  70734.000000  70734.000000  70734.000000   \n",
       "mean    151323.881453      0.155317   2021.998544      6.531003   \n",
       "std     163745.993050      0.065433      1.413568      3.449242   \n",
       "min         62.200000      0.050000   2020.000000      1.000000   \n",
       "25%      31865.052500      0.100000   2021.000000      4.000000   \n",
       "50%      86718.700000      0.180000   2022.000000      7.000000   \n",
       "75%     214177.600000      0.200000   2023.000000     10.000000   \n",
       "max     729221.440000      0.250000   2024.000000     12.000000   \n",
       "\n",
       "       Invoice_Amount  Value_per_kg  Value_per_unit    FOB_per_kg  \\\n",
       "count    7.073400e+04  7.073400e+04    70734.000000  70734.000000   \n",
       "mean     1.733099e+07  1.042552e+05   152333.300339     25.923694   \n",
       "std      7.435594e+06  2.004837e+05   162888.295994     49.830173   \n",
       "min      1.853126e+05  2.483073e+02      692.502512      0.061330   \n",
       "25%      1.182828e+07  1.408066e+04    32822.002855      3.493699   \n",
       "50%      1.685398e+07  4.054190e+04    86718.700353     10.079780   \n",
       "75%      2.233353e+07  1.098421e+05   214112.974849     27.311533   \n",
       "max      3.896148e+07  3.559754e+06   729221.439855    882.133127   \n",
       "\n",
       "       Freight_per_kg  Insurance_per_kg  \n",
       "count    70734.000000      70734.000000  \n",
       "mean         1.980020          0.285443  \n",
       "std          4.480517          0.625399  \n",
       "min          0.001396          0.000270  \n",
       "25%          0.217043          0.033514  \n",
       "50%          0.630055          0.094873  \n",
       "75%          1.910924          0.277713  \n",
       "max        115.513932         14.575691  "
      ]
     },
     "execution_count": 8,
     "metadata": {},
     "output_type": "execute_result"
    }
   ],
   "source": [
    "data.describe()"
   ]
  },
  {
   "cell_type": "code",
   "execution_count": 9,
   "id": "f66cdfc9",
   "metadata": {},
   "outputs": [
    {
     "data": {
      "text/plain": [
       "HS_Code                 10\n",
       "Item_Description        10\n",
       "Country_of_Origin       10\n",
       "Port_of_Shipment         4\n",
       "Quantity             35402\n",
       "Quantity_Unit            6\n",
       "Net_Mass_kg          45867\n",
       "Gross_Mass_kg        46355\n",
       "FOB_Value_USD        67130\n",
       "Freight_USD          45186\n",
       "Insurance_USD        12060\n",
       "CIF_Value_USD        67229\n",
       "CIF_Value_UGX        70619\n",
       "Unit_Price_UGX       70646\n",
       "Tax_Rate                 6\n",
       "Currency_Code            1\n",
       "Mode_of_Transport        3\n",
       "Year                     5\n",
       "Month                   12\n",
       "Invoice_Amount       70619\n",
       "Valuation_Method         6\n",
       "Value_per_kg         70722\n",
       "Value_per_unit       70720\n",
       "FOB_per_kg           70679\n",
       "Freight_per_kg       70085\n",
       "Insurance_per_kg     67551\n",
       "dtype: int64"
      ]
     },
     "execution_count": 9,
     "metadata": {},
     "output_type": "execute_result"
    }
   ],
   "source": [
    "data.nunique()"
   ]
  },
  {
   "cell_type": "markdown",
   "id": "b3784f0f",
   "metadata": {},
   "source": [
    "## EXPLAROTORY DATA ANALYSIS"
   ]
  },
  {
   "cell_type": "code",
   "execution_count": 10,
   "id": "a2931dc1",
   "metadata": {},
   "outputs": [
    {
     "data": {
      "text/plain": [
       "HS_Code              0\n",
       "Item_Description     0\n",
       "Country_of_Origin    0\n",
       "Port_of_Shipment     0\n",
       "Quantity             0\n",
       "Quantity_Unit        0\n",
       "Net_Mass_kg          0\n",
       "Gross_Mass_kg        0\n",
       "FOB_Value_USD        0\n",
       "Freight_USD          0\n",
       "Insurance_USD        0\n",
       "CIF_Value_USD        0\n",
       "CIF_Value_UGX        0\n",
       "Unit_Price_UGX       0\n",
       "Tax_Rate             0\n",
       "Currency_Code        0\n",
       "Mode_of_Transport    0\n",
       "Year                 0\n",
       "Month                0\n",
       "Invoice_Amount       0\n",
       "Valuation_Method     0\n",
       "Value_per_kg         0\n",
       "Value_per_unit       0\n",
       "FOB_per_kg           0\n",
       "Freight_per_kg       0\n",
       "Insurance_per_kg     0\n",
       "dtype: int64"
      ]
     },
     "execution_count": 10,
     "metadata": {},
     "output_type": "execute_result"
    }
   ],
   "source": [
    "# checking for missing values\n",
    "data.isnull().sum()"
   ]
  },
  {
   "cell_type": "code",
   "execution_count": 11,
   "id": "87d2308b",
   "metadata": {},
   "outputs": [
    {
     "data": {
      "text/plain": [
       "0"
      ]
     },
     "execution_count": 11,
     "metadata": {},
     "output_type": "execute_result"
    }
   ],
   "source": [
    "# checking for duplicates\n",
    "data.duplicated().sum()"
   ]
  },
  {
   "cell_type": "markdown",
   "id": "c60714b7",
   "metadata": {},
   "source": [
    "## DETECTING OUTLIERS"
   ]
  },
  {
   "cell_type": "code",
   "execution_count": null,
   "id": "3d70def8",
   "metadata": {},
   "outputs": [
    {
     "data": {
      "text/plain": [
       "<Axes: >"
      ]
     },
     "execution_count": 12,
     "metadata": {},
     "output_type": "execute_result"
    },
    {
     "data": {
      "image/png": "[encoded data removed]",
      "text/plain": [
       "<Figure size 2000x1000 with 1 Axes>"
      ]
     },
     "metadata": {},
     "output_type": "display_data"
    }
   ],
   "source": [
    "#checking for outliers in the dataset\n",
    "data.boxplot(figsize=(20, 10))"
   ]
  },
  {
   "cell_type": "code",
   "execution_count": 13,
   "id": "4cba98aa",
   "metadata": {},
   "outputs": [
    {
     "data": {
      "text/plain": [
       "['HS_Code',\n",
       " 'Quantity',\n",
       " 'Net_Mass_kg',\n",
       " 'Gross_Mass_kg',\n",
       " 'FOB_Value_USD',\n",
       " 'Freight_USD',\n",
       " 'Insurance_USD',\n",
       " 'CIF_Value_USD',\n",
       " 'CIF_Value_UGX',\n",
       " 'Unit_Price_UGX',\n",
       " 'Tax_Rate',\n",
       " 'Year',\n",
       " 'Month',\n",
       " 'Invoice_Amount',\n",
       " 'Value_per_kg',\n",
       " 'Value_per_unit',\n",
       " 'FOB_per_kg',\n",
       " 'Freight_per_kg',\n",
       " 'Insurance_per_kg']"
      ]
     },
     "execution_count": 13,
     "metadata": {},
     "output_type": "execute_result"
    }
   ],
   "source": [
    "# show numeric columns in the dataset\n",
    "data.select_dtypes(include=[np.number]).columns.tolist()"
   ]
  },
  {
   "cell_type": "code",
   "execution_count": 15,
   "id": "d091cc14",
   "metadata": {},
   "outputs": [
    {
     "data": {
      "text/plain": [
       "['Item_Description',\n",
       " 'Country_of_Origin',\n",
       " 'Port_of_Shipment',\n",
       " 'Quantity_Unit',\n",
       " 'Currency_Code',\n",
       " 'Mode_of_Transport',\n",
       " 'Valuation_Method']"
      ]
     },
     "execution_count": 15,
     "metadata": {},
     "output_type": "execute_result"
    }
   ],
   "source": [
    "data.select_dtypes(include=['object', 'category']).columns.tolist()"
   ]
  },
  {
   "cell_type": "code",
   "execution_count": 17,
   "id": "920bbaab",
   "metadata": {},
   "outputs": [
    {
     "data": {
      "text/plain": [
       "['FOB_Value_USD ---- has 103 outliers. Their percentage on the overall dataset is 0.15%.',\n",
       " 'Freight_USD ---- has 1054 outliers. Their percentage on the overall dataset is 1.49%.',\n",
       " 'Insurance_USD ---- has 1090 outliers. Their percentage on the overall dataset is 1.54%.',\n",
       " 'CIF_Value_USD ---- has 190 outliers. Their percentage on the overall dataset is 0.27%.',\n",
       " 'CIF_Value_UGX ---- has 213 outliers. Their percentage on the overall dataset is 0.3%.',\n",
       " 'Unit_Price_UGX ---- has 4493 outliers. Their percentage on the overall dataset is 6.35%.',\n",
       " 'Invoice_Amount ---- has 213 outliers. Their percentage on the overall dataset is 0.3%.',\n",
       " 'Value_per_kg ---- has 6706 outliers. Their percentage on the overall dataset is 9.48%.',\n",
       " 'Value_per_unit ---- has 4542 outliers. Their percentage on the overall dataset is 6.42%.',\n",
       " 'FOB_per_kg ---- has 6675 outliers. Their percentage on the overall dataset is 9.44%.',\n",
       " 'Freight_per_kg ---- has 7491 outliers. Their percentage on the overall dataset is 10.59%.',\n",
       " 'Insurance_per_kg ---- has 7411 outliers. Their percentage on the overall dataset is 10.48%.']"
      ]
     },
     "execution_count": 17,
     "metadata": {},
     "output_type": "execute_result"
    }
   ],
   "source": [
    "# List of numeric columns provided\n",
    "numeric_columns = [\n",
    "    'HS_Code', 'Quantity', 'Net_Mass_kg', 'Gross_Mass_kg',\n",
    "    'FOB_Value_USD', 'Freight_USD', 'Insurance_USD',\n",
    "    'CIF_Value_USD', 'CIF_Value_UGX', 'Unit_Price_UGX',\n",
    "    'Tax_Rate', 'Year', 'Month', 'Invoice_Amount',\n",
    "    'Value_per_kg', 'Value_per_unit', 'FOB_per_kg',\n",
    "    'Freight_per_kg', 'Insurance_per_kg'\n",
    "]\n",
    "\n",
    "# Detect outliers and generate summary messages\n",
    "def iqr_outlier_summary(data, columns):\n",
    "    results = []\n",
    "    for col in columns:\n",
    "        if col in data.columns:\n",
    "            Q1 = data[col].quantile(0.25)\n",
    "            Q3 = data[col].quantile(0.75)\n",
    "            IQR = Q3 - Q1\n",
    "            lower = Q1 - 1.5 * IQR\n",
    "            upper = Q3 + 1.5 * IQR\n",
    "            outliers = data[(data[col] < lower) | (data[col] > upper)]\n",
    "            count = len(outliers)\n",
    "            if count > 0:\n",
    "                percentage = round((count / len(data)) * 100, 2)\n",
    "                results.append(f\"{col} ---- has {count} outliers. Their percentage on the overall dataset is {percentage}%.\")\n",
    "    return results\n",
    "\n",
    "# Run the function on the dataframe\n",
    "outlier_messages = iqr_outlier_summary(data, numeric_columns)\n",
    "outlier_messages\n"
   ]
  }
 ],
 "metadata": {
  "kernelspec": {
   "display_name": "Python 3",
   "language": "python",
   "name": "python3"
  },
  "language_info": {
   "codemirror_mode": {
    "name": "ipython",
    "version": 3
   },
   "file_extension": ".py",
   "mimetype": "text/x-python",
   "name": "python",
   "nbconvert_exporter": "python",
   "pygments_lexer": "ipython3",
   "version": "3.11.9"
  }
 },
 "nbformat": 4,
 "nbformat_minor": 5
}
